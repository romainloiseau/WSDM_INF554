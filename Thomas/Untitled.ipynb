{
 "cells": [
  {
   "cell_type": "code",
   "execution_count": null,
   "metadata": {
    "collapsed": true
   },
   "outputs": [],
   "source": [
    "import pandas as pd\n",
    "import numpy as np\n",
    "import matplotlib.pyplot as plt\n",
    "import seaborn as sns\n",
    "from sklearn.preprocessing import Imputer\n",
    "from sklearn.preprocessing import PolynomialFeatures\n",
    "from sklearn.preprocessing import StandardScaler\n",
    "from sklearn.feature_selection import VarianceThreshold\n",
    "from sklearn.feature_selection import SelectFromModel\n",
    "from sklearn.cross_validation import train_test_split\n",
    "from sklearn.utils import shuffle\n",
    "from sklearn.ensemble import *\n",
    "import xgboost as xgb\n",
    "import lightgbm as lgb\n",
    "from sklearn.model_selection import StratifiedKFold\n",
    "from sklearn.linear_model import LogisticRegression\n",
    "\n",
    "pd.set_option('display.max_columns', 100)"
   ]
  },
  {
   "cell_type": "code",
   "execution_count": null,
   "metadata": {
    "collapsed": true
   },
   "outputs": [],
   "source": [
    "train = pd.read_csv('./output_preprocessed/train_last_transaction.csv')\n",
    "test = pd.read_csv('./output_preprocessed/test_last_transaction.csv')"
   ]
  },
  {
   "cell_type": "code",
   "execution_count": null,
   "metadata": {
    "collapsed": true
   },
   "outputs": [],
   "source": [
    "K = 5\n",
    "kf = StratifiedKFold(n_splits=5)\n",
    "\n",
    "X = train.drop(['msno','is_churn'], axis=1)\n",
    "y = train['is_churn']\n",
    "\n",
    "lb = lgb.LGBMClassifier(objective = 'binary')\n",
    "\n",
    "targets = np.asarray([0.]*test.shape[0])\n",
    "print('GAME ON')\n",
    "for train_index,test_index in kf.split(X,y):\n",
    "    X_train, y_train = X.iloc[train_index].copy(),y.iloc[train_index].copy()\n",
    "    X_test, y_test = X.iloc[test_index].copy(),y.iloc[test_index].copy()\n",
    "    fit_lb = lb.fit(X_train, y_train)\n",
    "    y_predict=fit_c.predict_proba(X_test)\n",
    "    score=gini_normalized(y_test.values,y_predict[:,1])\n",
    "    print(score)\n",
    "    targets += fit_cl1.predict_proba(test.drop(['msno'],axis=1))[:,1]\n",
    "    del y_test, X_train, X_test, y_train\n",
    "targets /=K\n",
    "test_target = pd.DataFrame()\n",
    "test_target['id']=test['id']\n",
    "test_target['target']=targets\n",
    "test_target.to_csv('./output/output_LGB_showoff.csv', index=False)"
   ]
  }
 ],
 "metadata": {
  "kernelspec": {
   "display_name": "Python 3",
   "language": "python",
   "name": "python3"
  },
  "language_info": {
   "codemirror_mode": {
    "name": "ipython",
    "version": 3
   },
   "file_extension": ".py",
   "mimetype": "text/x-python",
   "name": "python",
   "nbconvert_exporter": "python",
   "pygments_lexer": "ipython3",
   "version": "3.6.1"
  }
 },
 "nbformat": 4,
 "nbformat_minor": 2
}
