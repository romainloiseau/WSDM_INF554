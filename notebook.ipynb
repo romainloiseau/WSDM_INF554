{
 "cells": [
  {
   "cell_type": "code",
   "execution_count": 2,
   "metadata": {
    "_cell_guid": "dbb6de02-a484-43ed-bb82-c9b06c1837e1",
    "_uuid": "98a094d002584bc3c8f34a2ee8cd12879f2601a3"
   },
   "outputs": [],
   "source": [
    "import numpy as np # linear algebra\n",
    "import pandas as pd # data processing, CSV file I/O (e.g. pd.read_csv)"
   ]
  },
  {
   "cell_type": "code",
   "execution_count": 4,
   "metadata": {},
   "outputs": [],
   "source": [
    "train = pd.read_csv('input/train.csv')\n",
    "#sample_submission_zero= pd.read_csv('../input/sample_submission_zero.csv')\n",
    "#members = pd.read_csv('input/members.csv')\n",
    "#transactions = pd.read_csv('input/transactions.csv')\n",
    "#user_logs = pd.read_csv('../input/user_logs.csv',nrows = 2e7)"
   ]
  },
  {
   "cell_type": "code",
   "execution_count": null,
   "metadata": {},
   "outputs": [],
   "source": []
  }
 ],
 "metadata": {
  "kernelspec": {
   "display_name": "Python 3",
   "language": "python",
   "name": "python3"
  },
  "language_info": {
   "codemirror_mode": {
    "name": "ipython",
    "version": 3
   },
   "file_extension": ".py",
   "mimetype": "text/x-python",
   "name": "python",
   "nbconvert_exporter": "python",
   "pygments_lexer": "ipython3",
   "version": "3.6.3"
  }
 },
 "nbformat": 4,
 "nbformat_minor": 1
}
